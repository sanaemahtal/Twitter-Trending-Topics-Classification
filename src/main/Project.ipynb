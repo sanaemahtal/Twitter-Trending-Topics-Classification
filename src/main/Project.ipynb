{
 "cells": [
  {
   "cell_type": "markdown",
   "metadata": {},
   "source": [
    "# Twitter Trending Now Analysis\n",
    "\n",
    "- implementing a clasification of the latest trending  hastags twitter\n"
   ]
  },
  {
   "cell_type": "code",
   "execution_count": 1,
   "metadata": {},
   "outputs": [],
   "source": [
    "# add all the import\n",
    "# these are  the list of imports\n",
    "%matplotlib inline\n",
    "# from sklearn\n",
    "import sklearn\n",
    "from sklearn.metrics import precision_recall_curve\n",
    "from sklearn.naive_bayes import BernoulliNB\n",
    "from sklearn.naive_bayes import MultinomialNB\n",
    "from sklearn import datasets, linear_model\n",
    "from sklearn.cross_validation import KFold    \n",
    "from sklearn import metrics\n",
    "from sklearn.metrics import mean_squared_error\n",
    "from sklearn.metrics import confusion_matrix\n",
    "from sklearn.metrics import accuracy_score\n",
    "from sklearn.preprocessing import PolynomialFeatures\n",
    "from sklearn.cross_validation import train_test_split #  this is used for cross validation \n",
    "from sklearn.discriminant_analysis import LinearDiscriminantAnalysis \n",
    "from sklearn import linear_model\n",
    "#LOGESTIC REGRESSION\n",
    "from sklearn.linear_model import LogisticRegression\n",
    "\n",
    "\n",
    "# THIS IS FOR THE DISPLAY\n",
    "from numpy import loadtxt, where\n",
    "from pylab import scatter, show, legend, xlabel, ylabel\n",
    "\n",
    "# from pandas\n",
    "import pandas as pd\n",
    "\n",
    "#from matplot\n",
    "import matplotlib.pyplot as plt\n",
    "import matplotlib \n",
    "\n",
    "\n",
    "import json, time, sys, io, pickle,os\n",
    "import re\n",
    "import tweepy\n",
    "import nltk\n",
    "import numpy as np\n",
    "import hashlib\n",
    "import glob\n",
    "import math\n",
    "\n",
    "from sklearn.cross_validation import KFold\n",
    "from sklearn.feature_extraction.text import CountVectorizer\n",
    "from sklearn.linear_model import LogisticRegression\n",
    "from sklearn.metrics import accuracy_score\n",
    "\n",
    "from decimal import *\n",
    "from __future__ import division\n",
    "from matplotlib import pyplot as plt\n",
    "from tweepy.streaming import StreamListener\n",
    "from tweepy import OAuthHandler\n",
    "from tweepy import Stream\n",
    "from matplotlib.backends.backend_pdf import PdfPages\n",
    "\n",
    "from collections import Counter\n",
    "#from matplot\n",
    "import matplotlib.pyplot as plt\n",
    "import matplotlib \n",
    "\n",
    "# THIS IS FOR THE DISPLAY\n",
    "from numpy import loadtxt, where\n",
    "from pylab import scatter, show, legend, xlabel, ylabel\n",
    "\n",
    "# from pandas\n",
    "import pandas as pd"
   ]
  },
  {
   "cell_type": "markdown",
   "metadata": {},
   "source": [
    "# GETTING DATA FROM TWITTER\n"
   ]
  },
  {
   "cell_type": "code",
   "execution_count": 2,
   "metadata": {},
   "outputs": [],
   "source": [
    "# setup the twitter authentication\n",
    "'''\n",
    "Configuting the authentication and autherization\n",
    "'''\n",
    "access_token = \"116405356-cUqC22H0cSHosH8JtzOsgHSJMssKE3LYOyGaCGEt\"\n",
    "access_token_secret = \"N4A7CWZjP2xAOW6IQ6NMutTmVPuQJmsMJaOuGkLYfERFw\"\n",
    "\n",
    "consumer_key = \"CYj10LtJwmnt45ApZUmX9Wzxh\"\n",
    "consumer_secret = \"wkD9EgbNhR8ftV4v2IuZfgngOqrPp0WdKvnBvideVQacOkoFdN\"\n",
    "\n",
    "auth = tweepy.OAuthHandler(consumer_key, consumer_secret)\n",
    "auth.set_access_token(access_token, access_token_secret)"
   ]
  },
  {
   "cell_type": "code",
   "execution_count": 3,
   "metadata": {},
   "outputs": [],
   "source": [
    "# get tweets of all the trending topics and save it in a file \n",
    "##This class uses Tweepy to download tweets from Twitter streaming API\n",
    "class TweetsListener(tweepy.StreamListener):\n",
    "\n",
    "    def __init__(self, filename=None, api=None):\n",
    "        super(TweetsListener, self).__init__()\n",
    "        self.num_tweets = 0\n",
    "        self.filename = filename\n",
    "        \n",
    "    def on_status(self, status): \n",
    "        text = status.text.encode('utf-8').strip().lower()\n",
    "        if not text.startswith('rt') and not text.startswith('RT'):\n",
    "            record = {'Text': text, 'Created At': str(status.created_at)}\n",
    "            if self.num_tweets < 200:\n",
    "                try:\n",
    "                    with open(self.filename, 'a') as f:\n",
    "                        print text\n",
    "                        pickle.dump(record,f)\n",
    "                        self.num_tweets += 1\n",
    "                        return True\n",
    "                except BaseException as e:\n",
    "                    print(\"Error on_status: %s\" % str(e))\n",
    "            else:\n",
    "                return False\n",
    "        \n",
    "    def on_error(self, status):\n",
    "        print 'Error on status', status\n",
    "\n",
    "    def on_limit(self, status):\n",
    "        print 'Limit threshold exceeded', status\n",
    "\n",
    "    def on_timeout(self, status):\n",
    "        print 'Stream disconnected; continuing...'"
   ]
  },
  {
   "cell_type": "code",
   "execution_count": 23,
   "metadata": {},
   "outputs": [
    {
     "name": "stdout",
     "output_type": "stream",
     "text": [
      "LIST OF TRENDING TOPICS:\n",
      "[u'#ImpeachmentDay', u'Cunha', u'#ElFantasmaDeOriana', u'#PremiosTVyNovelas', u'#MasterChefMx', u'#BuyLetMeLoveYouOniTunes', u'Jean Wyllys', u'Ciro Pertusi', u'Pernambuco', u'Bahia', u'Chris Paul', u'Silvio Santos', u'Tiririca', u'Bruno Ara\\xfajo', u'Major Lazer', u'Faust\\xe3o', u'TARAKO\\u3055\\u3093', u'DeAndre Jordan', u'The 1975', u'Tia Eron', u'Audax', u'North Face', u'#bucciovertimechallenge', u'#MacriSA', u'#ComidaChilenaJrMC', u'#ElViejoTruco', u'#EcuadorListoYSolidario', u'#ALDUBGiftOfJoy', u'#PanicoNaBand', u'#FrasesEroticoConfusas', u'#MagandangBuhayKathNiel', u'#rafinhaaovivo', u'#RecentStudiesSuggest', u'#MePoneReDelOrtoQue', u'#FelizCumpleGastonSardelli', u'#ShowtimeLoveLyLunes', u'#NBLPatriciaVoto', u'#JonSecada', u'#ILookAtMyLifeAnd', u'#GraciasColdplay', u'#GirlsHBO', u'#SMTL', u'#DesaparecidosEC', u'#LatenArgentinos', u'#LaCornisa']\n"
     ]
    }
   ],
   "source": [
    "# get all the trending topics\n",
    "listOfTrendingTopics =[]\n",
    "twitterAPI_var = tweepy.API(auth)\n",
    "twitterTrendsAPICall = (twitterAPI_var.trends_place(1))[0]['trends']\n",
    "for a in twitterTrendsAPICall:\n",
    "    tempVar = a['name'].encode('utf-8')\n",
    "    regMatch = re.match( r'#*[(a-z)(A-Z)(1-9)]+', tempVar,0 ) \n",
    "    if regMatch !=None:\n",
    "        listOfTrendingTopics.append(a['name'])\n",
    "\n",
    "print\"LIST OF TRENDING TOPICS:\\n\",listOfTrendingTopics"
   ]
  },
  {
   "cell_type": "code",
   "execution_count": null,
   "metadata": {},
   "outputs": [
    {
     "name": "stdout",
     "output_type": "stream",
     "text": [
      "finding tweets for: #ImpeachmentDay\n",
      "winds of change are blowing in #brazil, lawmakers vote for #dilmarousseff's impeachment. #impeachmentday\n",
      "why would an english hashtag trend in brazil? #impeachmentday  https://t.co/opvdudn2dp"
     ]
    }
   ],
   "source": [
    "# save each trend in a different file with in the datafolder\n",
    "for trend in listOfTrendingTopics:\n",
    "    print \"finding tweets for:\",str(trend.encode(\"utf-8\"))\n",
    "    stream = Stream(auth, TweetsListener(filename = 'data/'+trend.encode('utf-8')+'.json'))\n",
    "    stream.filter(track=[trend],languages=['en'])"
   ]
  },
  {
   "cell_type": "code",
   "execution_count": 5,
   "metadata": {},
   "outputs": [],
   "source": [
    "##This method reads all the tweets from the file\n",
    "def readTweets(filename):\n",
    "    list = []\n",
    "    try:\n",
    "        with open(filename, 'r') as f:\n",
    "            for a in range(1,1000):\n",
    "#                 print \"a:\",a\n",
    "#                 print pickle.load(f)['Text']\n",
    "                list.append(pickle.load(f)['Text'])\n",
    "    except EOFError as e:\n",
    "        print \"error\"        \n",
    "           \n",
    "    return list        \n",
    "# readTweets(\"data/#Amici15.json\")"
   ]
  },
  {
   "cell_type": "code",
   "execution_count": 6,
   "metadata": {},
   "outputs": [],
   "source": [
    "#reads a stopwords from a file and converts it into a list\n",
    "stopWords = []\n",
    "def getStopWordList(stopWordListFileName):\n",
    "    stopWords.append('AT_USER')\n",
    "    stopWords.append('URL')\n",
    "\n",
    "    fp = open(stopWordListFileName, 'r')\n",
    "    line = fp.readline()\n",
    "    #print line\n",
    "    while line:\n",
    "        word = line.strip()\n",
    "        stopWords.append(word)\n",
    "        line = fp.readline()\n",
    "    fp.close()\n",
    "    return stopWords\n",
    "stopWords = getStopWordList('categories/stopwords.txt')"
   ]
  },
  {
   "cell_type": "code",
   "execution_count": 7,
   "metadata": {},
   "outputs": [],
   "source": [
    "'''\n",
    "takes in tweet/string and \n",
    "Params:\n",
    "        filename........ convert string from file to list\n",
    "    Return:\n",
    "    return a list\n",
    "'''  \n",
    "def getListFromFile(fileName):\n",
    "    tempList = []\n",
    "    fp = open(fileName, 'r')\n",
    "    line = fp.readline()\n",
    "    #print line\n",
    "    while line:\n",
    "        word = line.strip().lower()\n",
    "        tempList.append(word)\n",
    "        line = fp.readline()\n",
    "    fp.close()\n",
    "    return tempList\n",
    "\n",
    "movieList = getListFromFile('categories/movies.txt')\n",
    "politicsList= getListFromFile('categories/politics.txt')\n",
    "sportsList = getListFromFile('categories/sports.txt')\n",
    "technicalList= getListFromFile('categories/technical.txt')\n",
    "musicList = getListFromFile('categories/music.txt')\n",
    "\n",
    "#put the list of categories  into a map\n",
    "listOfCategories={1:movieList,2:politicsList,3:sportsList,4:technicalList,5:musicList}"
   ]
  },
  {
   "cell_type": "code",
   "execution_count": 8,
   "metadata": {},
   "outputs": [],
   "source": [
    "'''\n",
    "takes in tweet/string and \n",
    "Params:\n",
    "        tweets........ take in a string process the string\n",
    "    Return:\n",
    "    the processed tweets\n",
    "'''   \n",
    "def processTweet(tweet):\n",
    "    # process the tweets\n",
    "    #Convert to lower case\n",
    "    tweet = tweet.lower()\n",
    "    #Convert www.* or https?://* to URL\n",
    "    tweet = re.sub('((www\\.[^\\s]+)|(https?://[^\\s]+))','URL',tweet)\n",
    "    #Convert @username to AT_USER\n",
    "    tweet = re.sub('@[^\\s]+','AT_USER',tweet)\n",
    "    #Remove additional white spaces\n",
    "    tweet = re.sub('[\\s]+', ' ', tweet)\n",
    "    #Replace #word with word\n",
    "    tweet = re.sub(r'#([^\\s]+)', r'\\1', tweet)\n",
    "  \n",
    "    stopWithOr = '|'.join(map(re.escape,stopWords))\n",
    "    #print type(stopWithOr)\n",
    "    #tweet = re.sub(r'(the|as)',\"\",tweet)\n",
    "    tweet = re.sub(r'\\b('+stopWithOr+r')\\b','',tweet)    \n",
    "    tweet = re.sub(r'(\\?|\\!)','',tweet) \n",
    "    tweet = tweet.strip('\\'\"')\n",
    "    tweet = tweet.replace(\"  \", \" \")\n",
    "    tweet = tweet.strip()\n",
    "    return tweet\n",
    "\n",
    "# print processTweet(\"Test:igotceltics  my team! who do you got? nbaplayoffs URL \")"
   ]
  },
  {
   "cell_type": "code",
   "execution_count": 9,
   "metadata": {},
   "outputs": [],
   "source": [
    "'''\n",
    "takes in a list and save to a given filename\n",
    "    Params:\n",
    "        list.........directory where the file should be saved\n",
    "        filename.........name of the file to be modified\n",
    "       \n",
    "    Return:\n",
    "    none\n",
    "'''   \n",
    "def writeListToTextFile(list,filename):\n",
    "    f = open(filename, \"w\")\n",
    "    for item in list:\n",
    "        print>>f, item"
   ]
  },
  {
   "cell_type": "code",
   "execution_count": 10,
   "metadata": {},
   "outputs": [],
   "source": [
    "'''\n",
    "takes the file from the indir and save it to the outdir  where you remove the unwanted data,stopwords and convert all the \n",
    "data to lowercase\n",
    "    Params:\n",
    "        indir.........directory where you need to get the files\n",
    "        outdir.........directory where the file should be saved\n",
    "        filename.........name of the file to be modified\n",
    "       \n",
    "    Return:\n",
    "       none\n",
    "'''\n",
    "def processTweetsAndSave(indir,outdir,filename):\n",
    "    fp = open(indir+filename, 'r')\n",
    "    fpn = open(outdir+filename,'w')\n",
    "    line = fp.readline()\n",
    "    while line:\n",
    "        processedTweet = processTweet(line)\n",
    "        print>>fpn, processedTweet\n",
    "        line = fp.readline()\n",
    "    #end loop\n",
    "    fp.close()"
   ]
  },
  {
   "cell_type": "markdown",
   "metadata": {},
   "source": [
    "## PRE-PROCESSING THE TWEETS \n"
   ]
  },
  {
   "cell_type": "code",
   "execution_count": null,
   "metadata": {},
   "outputs": [],
   "source": [
    "# this is for training data\n",
    "# for file in os.listdir(\"data_us\"):\n",
    "#     if file.endswith(\".txt\"):\n",
    "#         print file\n",
    "#         headerName = file.split(\".\")[0]\n",
    "#         processTweetsAndSave('data_1_intermidiate/','data_2_processed/',headerName+\".txt\")"
   ]
  },
  {
   "cell_type": "code",
   "execution_count": 12,
   "metadata": {},
   "outputs": [
    {
     "name": "stdout",
     "output_type": "stream",
     "text": [
      "#Amici15.json\n",
      "error\n",
      "#GTLive3.json\n",
      "error\n",
      "#ImpeachmentDay.json\n",
      "error\n",
      "#MacriSA.json\n",
      "error\n",
      "#NBAPlayoffs.json\n",
      "error\n",
      "Chelsea.json\n",
      "error\n"
     ]
    }
   ],
   "source": [
    "for file in os.listdir(\"data\"):\n",
    "    if file.endswith(\".json\"):\n",
    "        print file\n",
    "        headerName = file.split(\".\")[0]\n",
    "        list_android = readTweets('data/'+file)\n",
    "        writeListToTextFile(list_android,'data_1_intermidiate/'+headerName+\".txt\")\n",
    "        processTweetsAndSave('data_1_intermidiate/','data_2_processed/',headerName+\".txt\")\n",
    "                            \n",
    "        \n",
    "# list_android = readTweets('#NBAPlayoffs.json')\n",
    "# writeListToTextFile(list_android,'data_#NBAPlayoffs.txt')\n",
    "# processTweetsAndSave('data_#NBAPlayoffs.txt')"
   ]
  },
  {
   "cell_type": "code",
   "execution_count": 13,
   "metadata": {},
   "outputs": [],
   "source": [
    "'''\n",
    "Takes in a file and finds unique words and its frequency in the document and returna map\n",
    "this function is mainly used to convert a list of list to a csv file\n",
    "    Params:\n",
    "        filename.........file where it needs to be processed\n",
    "       \n",
    "    Return:\n",
    "       Counter that has a map of unique words  with its frequency in the text file\n",
    "'''\n",
    "def convertFileeToListToMapOfUniqueWordAndFrequency(fileName):\n",
    "    tempList = []\n",
    "    fp = open(fileName, 'r')\n",
    "    line = fp.readline()\n",
    "    #print line\n",
    "    linesInFile = 0\n",
    "    while line:\n",
    "        word = line.strip().lower().split()\n",
    "        tempList.extend(word)\n",
    "        line = fp.readline()\n",
    "        linesInFile  =linesInFile+ 1\n",
    "    fp.close()\n",
    "    return Counter(tempList),linesInFile\n",
    "\n",
    "# mapper,noOfLineInAFile = convertFileeToListToMapOfUniqueWordAndFrequency(\"data_2_processed/#AskRicky.txt\")    \n",
    "# #print \"mapper,noOfLineInAFile\",mapper,noOfLineInAFile\n",
    "# uniqueList = list(set(movieList) & set(mapper.keys()))\n",
    "# #print \"uniqueList\",uniqueList\n",
    "# cost = sum([mapper.get(a)for a in uniqueList])\n",
    "# #print \"cost\",cost\n",
    "# #print cost/noOfLineInAFile"
   ]
  },
  {
   "cell_type": "code",
   "execution_count": 14,
   "metadata": {},
   "outputs": [],
   "source": [
    "'''\n",
    "takes in a list of list and file to be written to . Each element in the list is joined using a comma saved in the file\n",
    "\n",
    "this function is mainly used to convert a list of list to a csv file\n",
    "    Params:\n",
    "        listOfList......... get the list elements\n",
    "        filename.........file where it needs to save\n",
    "       \n",
    "    Return:\n",
    "       none\n",
    "'''\n",
    "def writeListToTextFileFinalOutput(listOfList,filename):\n",
    "    f = open(filename, \"w\")\n",
    "    for item in listOfList:\n",
    "        str1 = ','.join(str(e) for e in item)\n",
    "        print>>f, str1"
   ]
  },
  {
   "cell_type": "code",
   "execution_count": 18,
   "metadata": {},
   "outputs": [],
   "source": [
    "'''\n",
    "you take the prepocessed data from the data_2_processed and check the frequency of words from each bucket  that is movies,\n",
    "politics, technologies,musics\n",
    "\n",
    "the results of each tag and its associativity with each buckets is saved in finalOutput.txt \n",
    "\n",
    "'''\n",
    "#finalList\n",
    "finalList = []\n",
    "#for each file\n",
    "for file in os.listdir(\"data_2_processed/\"):\n",
    "    hashTagName = file.split(\".\")[0]\n",
    "    \n",
    "    listOfWordsInfile,noOfLineInAFile = convertFileeToListToMapOfUniqueWordAndFrequency(\"data_2_processed/\"+file)\n",
    "    \n",
    "    ##assert(noOfLineInAFile>0 & len(listOfWordsInfile)>0) ## this to check we are not working with empty file\n",
    "    tempCategoryList = [hashTagName]\n",
    "    tempCostList = []\n",
    "    #for each category\n",
    "    for category in listOfCategories.keys():\n",
    "        uniqueList = list(set(listOfCategories.get(category)) & set(listOfWordsInfile.keys()))\n",
    "        cost = sum([listOfWordsInfile.get(a) for a in uniqueList])\n",
    "        cost = cost/noOfLineInAFile\n",
    "        tempCategoryList.append(cost)\n",
    "        tempCostList.append(cost)\n",
    "        \n",
    "    tempMaxVal = max(tempCostList)\n",
    "    index = [i for i, j in enumerate(tempCostList) if j == tempMaxVal][0]\n",
    "    tempCategoryList.append(index+1)\n",
    "    finalList.append(tempCategoryList)   \n",
    "#     print \"tempMaxVal\",tempMaxVal\n",
    "#     print \"index\",index\n",
    "#     print \"tempCategoryList\",tempCategoryList\n",
    "#print \"finalList\",finalList\n",
    "\n",
    "writeListToTextFileFinalOutput(finalList,\"finalOutput.txt\")\n",
    "\n",
    "# put this to a file"
   ]
  },
  {
   "cell_type": "code",
   "execution_count": 19,
   "metadata": {},
   "outputs": [],
   "source": [
    "\"\"\"\n",
    "    setData(y_actual_data,y_predicted data)Taking in the actual result and the predicted result in the \n",
    "    getMatrics(): this will get back the confussion matrics with the specificity\n",
    "    Params: \n",
    "    - y_test,\n",
    "    - y_pred_class\n",
    "    Return:\n",
    "        returns TP,TN,FP,FN,Classification_Accuracy,Classification_Error,Sensitivity,Specificity,False_Positive_Rate,Precision\n",
    "\"\"\"\n",
    "class TestMetrics:\n",
    "    \n",
    "    def setData(self,y_test,y_pred_class):\n",
    "            self.y_test = y_test\n",
    "            self.y_pred_class = y_pred_class\n",
    "    \n",
    "    def getMatrics(self):\n",
    "        confusion = metrics.confusion_matrix(self.y_test, self.y_pred_class)\n",
    "        TP = confusion[1, 1]\n",
    "        TN = confusion[0, 0]\n",
    "        FP = confusion[0, 1]\n",
    "        FN = confusion[1, 0]\n",
    "\n",
    "        Classification_Accuracy = metrics.accuracy_score(self.y_test, self.y_pred_class)\n",
    "        Classification_Error =  1 - metrics.accuracy_score(self.y_test, self.y_pred_class)\n",
    "        Sensitivity = TP / float(TP + FN)\n",
    "        Specificity = TN / float(TN + FP) \n",
    "        False_Positive_Rate = FP / float(TN + FP)\n",
    "        Precision = TP / float(TP + FP)\n",
    "        return TP,TN,FP,FN,Classification_Accuracy,Classification_Error,Sensitivity,Specificity,False_Positive_Rate,Precision"
   ]
  },
  {
   "cell_type": "markdown",
   "metadata": {},
   "source": [
    "# Verifying Accuracies\n",
    "\n",
    "###  Fetching the data from the output file to get the training data"
   ]
  },
  {
   "cell_type": "code",
   "execution_count": 20,
   "metadata": {},
   "outputs": [
    {
     "name": "stdout",
     "output_type": "stream",
     "text": [
      "[3 5 1 1 3 3 2 4 1 1 2 4 4 1 5 3 3 1 2 3 3 1 1 3 1 1 1 3 1 3 3 1 1 3 3 3 3\n",
      " 1 1 3 3 3 3 4 3 3 3 3 3 4 1 3 3]\n"
     ]
    }
   ],
   "source": [
    "filename = \"finalOutput.txt\"\n",
    "X=[]\n",
    "Y=[]    \n",
    "with open(filename, \"r\") as filestream:\n",
    "    for line in filestream:\n",
    "        current = line.split(\",\")\n",
    "        Y.append(current[len(current)-1].strip())\n",
    "        X.append([i for i in current[1:len(current)-1]])\n",
    "X = np.asarray(X).astype(np.float)\n",
    "Y = np.asarray(Y).astype(np.int)\n",
    "print Y"
   ]
  },
  {
   "cell_type": "markdown",
   "metadata": {},
   "source": [
    "## Logestic Regression :\n"
   ]
  },
  {
   "cell_type": "code",
   "execution_count": 21,
   "metadata": {},
   "outputs": [
    {
     "name": "stdout",
     "output_type": "stream",
     "text": [
      "sklearn\n",
      "   Accuracy     Error  FN  FP  False_Positive_Rate  Precision  Sensitivity  \\\n",
      "0  0.666667  0.333333   0   1                  0.5       0.75            1   \n",
      "1  0.333333  0.666667   0   0                  NaN        NaN          NaN   \n",
      "2  1.000000  0.000000   0   0                  0.0       1.00            1   \n",
      "3  0.800000  0.200000   0   1                  0.5       0.75            1   \n",
      "4  0.000000  1.000000   0   0                  NaN        NaN          NaN   \n",
      "\n",
      "   Specificity  TN  TP  \n",
      "0          0.5   1   3  \n",
      "1          NaN   0   0  \n",
      "2          1.0   1   5  \n",
      "3          0.5   1   3  \n",
      "4          NaN   0   0  \n"
     ]
    },
    {
     "data": {
      "image/png": "[encoded data removed]"
     },
     "output_type": "display_data",
     "metadata": {}
    }
   ],
   "source": [
    "from sklearn.linear_model.logistic import LogisticRegression\n",
    "import sklearn.metrics\n",
    "\n",
    "matricsTotal = []\n",
    "ld_matricsTotal = []\n",
    "kf = sklearn.cross_validation.KFold(n=len(Y), n_folds=10, shuffle=True,random_state=5)\n",
    "for train_index, test_index in kf:\n",
    "    X_train, X_test =np.array([list(X[a]) for a  in train_index]),np.array([list(X[a]) for a  in test_index])\n",
    "    Y_train, Y_test = [Y[a] for a  in train_index],[Y[a] for a  in test_index]\n",
    "    #print X_train\n",
    "    \n",
    "     ### sklearn test \n",
    "    ld_grad =   LogisticRegression()\n",
    "    ld_grad.fit(X_train,Y_train)\n",
    "    ld_predicted_Y_values = ld_grad.predict(X_test)\n",
    "    \n",
    "    ld_tm  = TestMetrics()\n",
    "    ld_tm.setData(Y_test,ld_predicted_Y_values)\n",
    "    TP,TN,FP,FN,Classification_Accuracy,Classification_Error,Sensitivity,Specificity,False_Positive_Rate,Precision =  ld_tm.getMatrics()\n",
    "    ld_matricsTotal.append({\"TP\":TP,\"TN\":TN,\"FP\":FP,\"FN\":FN,\"Accuracy\":Classification_Accuracy,\"Error\":Classification_Error,\"Sensitivity\":Sensitivity,\"Specificity\":Specificity,\"False_Positive_Rate\":False_Positive_Rate,\"Precision\":Precision})\n",
    " \n",
    "    \n",
    "print \"sklearn\"\n",
    "ld_df = pd.DataFrame(ld_matricsTotal).head()\n",
    "ld_df.plot(kind = 'bar',figsize =(10 ,10),stacked = False)\n",
    "print ld_df"
   ]
  },
  {
   "cell_type": "markdown",
   "metadata": {},
   "source": [
    "# Multinomial Naive Bayes"
   ]
  },
  {
   "cell_type": "code",
   "execution_count": 22,
   "metadata": {},
   "outputs": [
    {
     "name": "stdout",
     "output_type": "stream",
     "text": [
      "sklearn\n",
      "   Accuracy     Error  FN  FP  False_Positive_Rate  Precision  Sensitivity  \\\n",
      "0  0.500000  0.500000   0   2                    1   0.600000            1   \n",
      "1  0.333333  0.666667   0   0                  NaN        NaN          NaN   \n",
      "2  0.833333  0.166667   0   1                    1   0.833333            1   \n",
      "3  0.600000  0.400000   0   2                    1   0.600000            1   \n",
      "4  0.000000  1.000000   0   0                  NaN        NaN          NaN   \n",
      "\n",
      "   Specificity  TN  TP  \n",
      "0            0   0   3  \n",
      "1          NaN   0   0  \n",
      "2            0   0   5  \n",
      "3            0   0   3  \n",
      "4          NaN   0   0  \n"
     ]
    },
    {
     "data": {
      "image/png": "[encoded data removed]"
     },
     "output_type": "display_data",
     "metadata": {}
    }
   ],
   "source": [
    "from sklearn.naive_bayes import MultinomialNB\n",
    "\n",
    "matricsTotal = []\n",
    "ld_matricsTotal = []\n",
    "kf = sklearn.cross_validation.KFold(n=len(Y), n_folds=10, shuffle=True,random_state=5)\n",
    "for train_index, test_index in kf:\n",
    "    X_train, X_test =np.array([list(X[a]) for a  in train_index]),np.array([list(X[a]) for a  in test_index])\n",
    "    Y_train, Y_test = [Y[a] for a  in train_index],[Y[a] for a  in test_index]\n",
    "    #print X_train\n",
    "    \n",
    "     ### sklearn test \n",
    "    ld_grad =   MultinomialNB(alpha=1.0, class_prior=None, fit_prior=True)\n",
    "    ld_grad.fit(X_train,Y_train)\n",
    "    ld_predicted_Y_values = ld_grad.predict(X_test)\n",
    "    \n",
    "    ld_tm  = TestMetrics()\n",
    "    ld_tm.setData(Y_test,ld_predicted_Y_values)\n",
    "    TP,TN,FP,FN,Classification_Accuracy,Classification_Error,Sensitivity,Specificity,False_Positive_Rate,Precision =  ld_tm.getMatrics()\n",
    "    ld_matricsTotal.append({\"TP\":TP,\"TN\":TN,\"FP\":FP,\"FN\":FN,\"Accuracy\":Classification_Accuracy,\"Error\":Classification_Error,\"Sensitivity\":Sensitivity,\"Specificity\":Specificity,\"False_Positive_Rate\":False_Positive_Rate,\"Precision\":Precision})\n",
    " \n",
    "    \n",
    "print \"sklearn\"\n",
    "ld_df = pd.DataFrame(ld_matricsTotal).head()\n",
    "ld_df.plot(kind = 'bar',figsize =(10 ,10),stacked = False)\n",
    "print ld_df"
   ]
  },
  {
   "cell_type": "code",
   "execution_count": null,
   "metadata": {},
   "outputs": [],
   "source": [
    ""
   ]
  }
 ],
 "metadata": {
  "kernelspec": {
   "display_name": "Python 2",
   "language": "python",
   "name": "python2"
  },
  "language_info": {
   "codemirror_mode": {
    "name": "ipython",
    "version": 2.0
   },
   "file_extension": ".py",
   "mimetype": "text/x-python",
   "name": "python",
   "nbconvert_exporter": "python",
   "pygments_lexer": "ipython2",
   "version": "2.7.11"
  }
 },
 "nbformat": 4,
 "nbformat_minor": 0
}